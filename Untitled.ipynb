{
 "cells": [
  {
   "cell_type": "code",
   "execution_count": 1,
   "metadata": {},
   "outputs": [],
   "source": [
    "import pandas\n",
    "db = pandas.read_csv('volcanoes.txt')"
   ]
  },
  {
   "cell_type": "code",
   "execution_count": 2,
   "metadata": {},
   "outputs": [
    {
     "data": {
      "text/plain": [
       "48.7767982"
      ]
     },
     "execution_count": 2,
     "metadata": {},
     "output_type": "execute_result"
    }
   ],
   "source": [
    "coordinates = db.iloc[:,-2:]\n",
    "coordinates.LAT[0]"
   ]
  },
  {
   "cell_type": "code",
   "execution_count": 11,
   "metadata": {},
   "outputs": [],
   "source": [
    "db1 = pandas.read_csv(\"countries.csv\", encoding='windows-1254')"
   ]
  },
  {
   "cell_type": "code",
   "execution_count": 14,
   "metadata": {},
   "outputs": [
    {
     "data": {
      "text/html": [
       "<div>\n",
       "<style scoped>\n",
       "    .dataframe tbody tr th:only-of-type {\n",
       "        vertical-align: middle;\n",
       "    }\n",
       "\n",
       "    .dataframe tbody tr th {\n",
       "        vertical-align: top;\n",
       "    }\n",
       "\n",
       "    .dataframe thead th {\n",
       "        text-align: right;\n",
       "    }\n",
       "</style>\n",
       "<table border=\"1\" class=\"dataframe\">\n",
       "  <thead>\n",
       "    <tr style=\"text-align: right;\">\n",
       "      <th></th>\n",
       "      <th>?</th>\n",
       "      <th>??????</th>\n",
       "      <th>?????????</th>\n",
       "      <th>????</th>\n",
       "      <th>% ??</th>\n",
       "    </tr>\n",
       "  </thead>\n",
       "  <tbody>\n",
       "    <tr>\n",
       "      <th>0</th>\n",
       "      <td>NaN</td>\n",
       "      <td>NaN</td>\n",
       "      <td>NaN</td>\n",
       "      <td>NaN</td>\n",
       "      <td>?????????</td>\n",
       "    </tr>\n",
       "    <tr>\n",
       "      <th>1</th>\n",
       "      <td>NaN</td>\n",
       "      <td>NaN</td>\n",
       "      <td>NaN</td>\n",
       "      <td>NaN</td>\n",
       "      <td>?????</td>\n",
       "    </tr>\n",
       "    <tr>\n",
       "      <th>2</th>\n",
       "      <td>1</td>\n",
       "      <td>???</td>\n",
       "      <td>1 364 358 000</td>\n",
       "      <td>25 ????? 2014</td>\n",
       "      <td>19.25%</td>\n",
       "    </tr>\n",
       "    <tr>\n",
       "      <th>3</th>\n",
       "      <td>2</td>\n",
       "      <td>?????</td>\n",
       "      <td>1 250 938 000</td>\n",
       "      <td>25 ????? 2014</td>\n",
       "      <td>17.60%</td>\n",
       "    </tr>\n",
       "    <tr>\n",
       "      <th>4</th>\n",
       "      <td>3</td>\n",
       "      <td>???</td>\n",
       "      <td>317 321 000</td>\n",
       "      <td>25 ????? 2014</td>\n",
       "      <td>4.46%</td>\n",
       "    </tr>\n",
       "    <tr>\n",
       "      <th>...</th>\n",
       "      <td>...</td>\n",
       "      <td>...</td>\n",
       "      <td>...</td>\n",
       "      <td>...</td>\n",
       "      <td>...</td>\n",
       "    </tr>\n",
       "    <tr>\n",
       "      <th>243</th>\n",
       "      <td>242</td>\n",
       "      <td>??????? ??????? (????.)</td>\n",
       "      <td>56</td>\n",
       "      <td>1 ??????? 2013</td>\n",
       "      <td>0.000002 %</td>\n",
       "    </tr>\n",
       "    <tr>\n",
       "      <th>244</th>\n",
       "      <td>NaN</td>\n",
       "      <td>NaN</td>\n",
       "      <td>NaN</td>\n",
       "      <td>NaN</td>\n",
       "      <td>NaN</td>\n",
       "    </tr>\n",
       "    <tr>\n",
       "      <th>245</th>\n",
       "      <td>??? ?????? ???????? ???????? : www.downloadexc...</td>\n",
       "      <td>NaN</td>\n",
       "      <td>NaN</td>\n",
       "      <td>NaN</td>\n",
       "      <td>NaN</td>\n",
       "    </tr>\n",
       "    <tr>\n",
       "      <th>246</th>\n",
       "      <td>NaN</td>\n",
       "      <td>NaN</td>\n",
       "      <td>NaN</td>\n",
       "      <td>NaN</td>\n",
       "      <td>NaN</td>\n",
       "    </tr>\n",
       "    <tr>\n",
       "      <th>247</th>\n",
       "      <td>?????????????</td>\n",
       "      <td>NaN</td>\n",
       "      <td>NaN</td>\n",
       "      <td>NaN</td>\n",
       "      <td>NaN</td>\n",
       "    </tr>\n",
       "  </tbody>\n",
       "</table>\n",
       "<p>248 rows × 5 columns</p>\n",
       "</div>"
      ],
      "text/plain": [
       "                                                     ?  \\\n",
       "0                                                  NaN   \n",
       "1                                                  NaN   \n",
       "2                                                    1   \n",
       "3                                                    2   \n",
       "4                                                    3   \n",
       "..                                                 ...   \n",
       "243                                                242   \n",
       "244                                                NaN   \n",
       "245  ??? ?????? ???????? ???????? : www.downloadexc...   \n",
       "246                                                NaN   \n",
       "247                                      ?????????????   \n",
       "\n",
       "                       ??????      ?????????            ????        % ??  \n",
       "0                         NaN            NaN             NaN   ?????????  \n",
       "1                         NaN            NaN             NaN       ?????  \n",
       "2                         ???  1 364 358 000   25 ????? 2014      19.25%  \n",
       "3                       ?????  1 250 938 000   25 ????? 2014      17.60%  \n",
       "4                         ???    317 321 000   25 ????? 2014       4.46%  \n",
       "..                        ...            ...             ...         ...  \n",
       "243   ??????? ??????? (????.)             56  1 ??????? 2013  0.000002 %  \n",
       "244                       NaN            NaN             NaN         NaN  \n",
       "245                       NaN            NaN             NaN         NaN  \n",
       "246                       NaN            NaN             NaN         NaN  \n",
       "247                       NaN            NaN             NaN         NaN  \n",
       "\n",
       "[248 rows x 5 columns]"
      ]
     },
     "execution_count": 14,
     "metadata": {},
     "output_type": "execute_result"
    }
   ],
   "source": [
    "db1"
   ]
  }
 ],
 "metadata": {
  "kernelspec": {
   "display_name": "Python 3",
   "language": "python",
   "name": "python3"
  },
  "language_info": {
   "codemirror_mode": {
    "name": "ipython",
    "version": 3
   },
   "file_extension": ".py",
   "mimetype": "text/x-python",
   "name": "python",
   "nbconvert_exporter": "python",
   "pygments_lexer": "ipython3",
   "version": "3.8.0"
  }
 },
 "nbformat": 4,
 "nbformat_minor": 4
}
